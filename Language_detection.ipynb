{
  "cells": [
    {
      "attachments": {},
      "cell_type": "markdown",
      "metadata": {
        "id": "yPn4x6U54Tm5"
      },
      "source": [
        "# Translated - Machine Learning Assessment - Exercise 1\n",
        "Author: Christian Brignone (brignonechristian@gmail.com)"
      ]
    },
    {
      "cell_type": "code",
      "execution_count": 10,
      "metadata": {
        "id": "5dp6K1zYdYx0"
      },
      "outputs": [],
      "source": [
        "import pandas as pd\n",
        "import matplotlib.pyplot as plt\n",
        "import pickle\n",
        "import re\n",
        "from sklearn.model_selection import train_test_split\n",
        "from sklearn.feature_extraction.text import CountVectorizer, TfidfVectorizer\n",
        "from sklearn.naive_bayes import MultinomialNB, ComplementNB\n",
        "from sklearn.svm import SVC\n",
        "from sklearn.linear_model import LogisticRegression\n",
        "from sklearn.pipeline import Pipeline\n",
        "from sklearn.model_selection import GridSearchCV\n",
        "from sklearn.metrics import confusion_matrix, classification_report, f1_score, ConfusionMatrixDisplay"
      ]
    },
    {
      "attachments": {},
      "cell_type": "markdown",
      "metadata": {},
      "source": [
        "### Data Loading and Visualization"
      ]
    },
    {
      "attachments": {},
      "cell_type": "markdown",
      "metadata": {
        "id": "zT10BexVghqU"
      },
      "source": [
        "In order to build our language classifier we first need to have access to the [dataset](https://www.kaggle.com/datasets/basilb2s/language-detection?resource=download). We may proceed in different ways, for example, we may directly download the data from Kaggle by using an API Token as described [here](https://www.kaggle.com/general/74235) or upload the dataset in our Google Drive and then mount the drive in the Colab workspace. Since the dataset is very small (1.91MB), the easiest and fastest way to use the data is by downloading and then manually uploading the dataset in the Colab runtime from [here](https://www.kaggle.com/datasets/basilb2s/language-detection?resource=download).\n",
        "\n",
        "Once we have the dataset archive **Detection.csv.zip** at our disposal in the runtime, we can extract the **.csv** file and build a *pandas* dataframe to simplify the data handling and visualization."
      ]
    },
    {
      "cell_type": "code",
      "execution_count": 2,
      "metadata": {
        "colab": {
          "base_uri": "https://localhost:8080/"
        },
        "id": "FNE2M0llfsd1",
        "outputId": "73520235-1fd1-483e-d3de-a5098beb9b86"
      },
      "outputs": [
        {
          "name": "stderr",
          "output_type": "stream",
          "text": [
            "\"unzip\" non � riconosciuto come comando interno o esterno,\n",
            " un programma eseguibile o un file batch.\n"
          ]
        }
      ],
      "source": [
        "# Extract the dataset in the \"dataset\" folder\n",
        "!unzip Language\\ Detection.csv.zip -d dataset "
      ]
    },
    {
      "cell_type": "code",
      "execution_count": 2,
      "metadata": {
        "id": "2QCL6sOPgOeB"
      },
      "outputs": [],
      "source": [
        "# Build a Pandas dataframe from the .csv file\n",
        "df=pd.read_csv('dataset/Language Detection.csv') "
      ]
    },
    {
      "cell_type": "code",
      "execution_count": 3,
      "metadata": {
        "colab": {
          "base_uri": "https://localhost:8080/",
          "height": 206
        },
        "id": "84Nuz2xfhdPx",
        "outputId": "d1026c2c-500d-4f8a-9b01-b0ab98bd4897"
      },
      "outputs": [
        {
          "data": {
            "text/html": [
              "<div>\n",
              "<style scoped>\n",
              "    .dataframe tbody tr th:only-of-type {\n",
              "        vertical-align: middle;\n",
              "    }\n",
              "\n",
              "    .dataframe tbody tr th {\n",
              "        vertical-align: top;\n",
              "    }\n",
              "\n",
              "    .dataframe thead th {\n",
              "        text-align: right;\n",
              "    }\n",
              "</style>\n",
              "<table border=\"1\" class=\"dataframe\">\n",
              "  <thead>\n",
              "    <tr style=\"text-align: right;\">\n",
              "      <th></th>\n",
              "      <th>Text</th>\n",
              "      <th>Language</th>\n",
              "    </tr>\n",
              "  </thead>\n",
              "  <tbody>\n",
              "    <tr>\n",
              "      <th>0</th>\n",
              "      <td>Nature, in the broadest sense, is the natural...</td>\n",
              "      <td>English</td>\n",
              "    </tr>\n",
              "    <tr>\n",
              "      <th>1</th>\n",
              "      <td>\"Nature\" can refer to the phenomena of the phy...</td>\n",
              "      <td>English</td>\n",
              "    </tr>\n",
              "    <tr>\n",
              "      <th>2</th>\n",
              "      <td>The study of nature is a large, if not the onl...</td>\n",
              "      <td>English</td>\n",
              "    </tr>\n",
              "    <tr>\n",
              "      <th>3</th>\n",
              "      <td>Although humans are part of nature, human acti...</td>\n",
              "      <td>English</td>\n",
              "    </tr>\n",
              "    <tr>\n",
              "      <th>4</th>\n",
              "      <td>[1] The word nature is borrowed from the Old F...</td>\n",
              "      <td>English</td>\n",
              "    </tr>\n",
              "  </tbody>\n",
              "</table>\n",
              "</div>"
            ],
            "text/plain": [
              "                                                Text Language\n",
              "0   Nature, in the broadest sense, is the natural...  English\n",
              "1  \"Nature\" can refer to the phenomena of the phy...  English\n",
              "2  The study of nature is a large, if not the onl...  English\n",
              "3  Although humans are part of nature, human acti...  English\n",
              "4  [1] The word nature is borrowed from the Old F...  English"
            ]
          },
          "execution_count": 3,
          "metadata": {},
          "output_type": "execute_result"
        }
      ],
      "source": [
        "# Display the first five rows of the dataframe\n",
        "df.head() "
      ]
    },
    {
      "cell_type": "markdown",
      "metadata": {
        "id": "fxGC3cCUn_yy"
      },
      "source": [
        "As we can see from the first rows of the dataframe, many of the sentences contain special characters that, later on, must be removed to obtain better classification performance.\n",
        "\n",
        "To have a clearer picture of the data distribution, we can plot a histogram describing the total number of senteces for each language."
      ]
    },
    {
      "cell_type": "code",
      "execution_count": 4,
      "metadata": {
        "colab": {
          "base_uri": "https://localhost:8080/",
          "height": 511
        },
        "id": "l9S736_HmSQM",
        "outputId": "d202f8f5-b916-43d9-c30f-ca49469fc0de"
      },
      "outputs": [
        {
          "data": {
            "text/plain": [
              "<Axes: xlabel='Language'>"
            ]
          },
          "execution_count": 4,
          "metadata": {},
          "output_type": "execute_result"
        },
        {
          "data": {
            "image/png": "[encoded data removed]",
            "text/plain": [
              "<Figure size 640x480 with 1 Axes>"
            ]
          },
          "metadata": {},
          "output_type": "display_data"
        }
      ],
      "source": [
        "df['Language'].value_counts().plot(kind='bar')"
      ]
    },
    {
      "attachments": {},
      "cell_type": "markdown",
      "metadata": {
        "id": "DDY1Qptfp0HK"
      },
      "source": [
        "Since our task consists in the binary classification of italian vs not italian sentences, the dataset must be modified consequently."
      ]
    },
    {
      "cell_type": "code",
      "execution_count": 5,
      "metadata": {
        "colab": {
          "base_uri": "https://localhost:8080/",
          "height": 509
        },
        "id": "g3IFZhvhpzPD",
        "outputId": "f5a4fd9d-b9ff-4c18-d8b0-2ccc46688c84"
      },
      "outputs": [
        {
          "data": {
            "text/plain": [
              "<Axes: xlabel='Language'>"
            ]
          },
          "execution_count": 5,
          "metadata": {},
          "output_type": "execute_result"
        },
        {
          "data": {
            "image/png": "[encoded data removed]",
            "text/plain": [
              "<Figure size 640x480 with 1 Axes>"
            ]
          },
          "metadata": {},
          "output_type": "display_data"
        }
      ],
      "source": [
        "# Substitute each Non-Italian language with the label 'Non-Italian'\n",
        "df['Language']=df['Language'].apply(lambda x : x if x=='Italian' else 'Non-Italian') \n",
        "df['Language'].value_counts().plot(kind='bar')"
      ]
    },
    {
      "cell_type": "code",
      "execution_count": 6,
      "metadata": {
        "colab": {
          "base_uri": "https://localhost:8080/"
        },
        "id": "hsi4uT79pwjS",
        "outputId": "fae8f5d9-024c-4284-b372-29943d9b5736"
      },
      "outputs": [
        {
          "data": {
            "text/plain": [
              "Language\n",
              "Non-Italian    93.2%\n",
              "Italian         6.8%\n",
              "Name: proportion, dtype: object"
            ]
          },
          "execution_count": 6,
          "metadata": {},
          "output_type": "execute_result"
        }
      ],
      "source": [
        "# Compute percentage dataset distribution\n",
        "df['Language'].value_counts(normalize=True).mul(100).round(1).astype(str) + '%' "
      ]
    },
    {
      "attachments": {},
      "cell_type": "markdown",
      "metadata": {
        "id": "FuixWRJc1rIf"
      },
      "source": [
        "We are dealing with a highly imbalanced dataset, in fact, Italian sentences only represent 6.8% of the total. This means that in the evaluation of the model's performances, we need to use specific evaluation metrics like *precision*, *recall* and *F1-score*; otherwise, relying only on the accuracy of the model, we may get a relatively good accuracy (0.93) by predicting each sentence as 'Non-Italian', thus without correctly learning the task."
      ]
    },
    {
      "attachments": {},
      "cell_type": "markdown",
      "metadata": {},
      "source": [
        "### Data Preprocessing"
      ]
    },
    {
      "attachments": {},
      "cell_type": "markdown",
      "metadata": {
        "id": "bi8yAXnu4Mkw"
      },
      "source": [
        "Now we will preprocess the data by removing special characters and we will organize the data in two lists, X for the Text and y for the labels. For this task, differently from classical NLP problems, we will not employ stemming or lemmatization, since by removing suffixes to get to the root form of a word, we may get the same root form from words belonging to different languages, thus losing important information for the classification process."
      ]
    },
    {
      "cell_type": "code",
      "execution_count": 7,
      "metadata": {
        "id": "5IALEAa31plg"
      },
      "outputs": [],
      "source": [
        "# Remove special characters and uppercase\n",
        "X=df['Text'].apply(lambda x: re.sub(r'[!@#$(),\\n\"%^\\*\\?\\:;~`0-9\\.\\[\\]\\+\\-\\'=£]', '', x.lower()) ) \n",
        "\n",
        "# Transform the dataframe in a list of samples\n",
        "X=X.tolist()\n",
        "\n",
        "# Substitute 'Italian' with 1 and 'Non-Italian' with 0 to have a binary encoding of the labels\n",
        "y=df['Language'].apply(lambda x : 1 if x=='Italian' else 0)\n",
        "\n",
        "# Transform the dataframe in a list of labels\n",
        "y=y.tolist() \n"
      ]
    },
    {
      "attachments": {},
      "cell_type": "markdown",
      "metadata": {},
      "source": [
        "We split the dataset in train-set and test-set, in particular we will use 80% of the dataset for training and 20% for testing. To make the experiment reproducible we set the random state in the train_test_split function."
      ]
    },
    {
      "cell_type": "code",
      "execution_count": 8,
      "metadata": {
        "colab": {
          "base_uri": "https://localhost:8080/"
        },
        "id": "36mK6gwkqB7T",
        "outputId": "b5968c47-ead7-4e1b-8ecc-40f5a27e1dba"
      },
      "outputs": [],
      "source": [
        "# Fix the seed to make the experiment reproducible\n",
        "seed=10\n",
        "\n",
        "# Dataset splitting\n",
        "X_train, X_test, y_train, y_test = train_test_split(X, y, test_size = 0.2, random_state=seed) "
      ]
    },
    {
      "attachments": {},
      "cell_type": "markdown",
      "metadata": {},
      "source": [
        "### Model selection and fitting"
      ]
    },
    {
      "attachments": {},
      "cell_type": "markdown",
      "metadata": {},
      "source": [
        "Finally, we define a pipeline which will handle the tokenization, vectorization and classification of the sentences.\n",
        "\n",
        "Since we are dealing with a relatively easy task and we have a small dataset, we will avoid heavy transformer-based solutions and we will instead rely on classical machine learning classification algorithms like Naive Bayes, Support Vector Machine or Logistic Regression which guarantee high accuracy while requiring very low computational resources. \n",
        "\n",
        "In order to determine the best combination of tokenizer, vectorizer and classifier, we perform a grid search on various algorithms and their hyperparameters. \n",
        "In particular, we employ: \n",
        "\n",
        "- **CountVectorizer**: applies a word-level tokenization considering both unigrams and bigrams and a vectorization which produces a sparse representation of token counts.\n",
        "- **TfidfVectorizer**: applies a word-level tokenization considering both unigrams and bigrams and a vectorization that weights the word counts by a measure of how often they appear in the documents.\n",
        "\n",
        "- **Naive Bayes**: under the assumption that the input features are independent of each other, compute the probabilities of a new instance belonging to each class and select the class with the highest probability as the predicted class. We will compare the *MultinomialNB* and *ComplementNB* (designed to address the problem of imbalanced dataset) variants for different values of the parameter *alpha*, used to specify the smoothing factor for the probability estimates (small values of alpha results in more aggressive smoothing, whereas large values of alpha results in less smoothing).\n",
        "- **Support Vector Classification (SVC)**: finds the hyperplane that best separates the data points of different classes. We will use *linear* and *rbf* kernels, different values for *C* which controls the trade-off between the margin size and the training error and different class weights to mitigate the skewed dataset problem.\n",
        "- **LogisticRegression**: assuming that the relationship between the features and the output is linear, it models the probability of a new instance belonging to a particular class using a logistic function. Also in this case we will test different values for the parameter *C* which controls the regularization strength and different class weights.\n",
        "\n",
        "All the combinations of vectorizers, classifiers and hyperparameters will be fitted on the dataset and evaluated through a 5-fold cross validation and, finally, the model achieving the best F1-score will be used for our application.\n",
        "\n"
      ]
    },
    {
      "cell_type": "code",
      "execution_count": 9,
      "metadata": {},
      "outputs": [
        {
          "name": "stdout",
          "output_type": "stream",
          "text": [
            "Best parameters:  {'clf': MultinomialNB(alpha=0.1), 'clf__alpha': 0.1, 'vect': CountVectorizer(ngram_range=(1, 2)), 'vect__ngram_range': (1, 2)}\n",
            "Best f1-score:  0.9829823219289976\n"
          ]
        }
      ],
      "source": [
        "# Define a pipeline with the vectorizer and model to test\n",
        "pipelines =  Pipeline([\n",
        "        ('vect', None),\n",
        "        ('clf', None)\n",
        "    ])\n",
        "\n",
        "# Define the parameter grid for the pipeline\n",
        "param_grids =[\n",
        "    {\n",
        "        'vect': [CountVectorizer(), TfidfVectorizer()],\n",
        "        'vect__ngram_range': [(1,1), (1,2)],\n",
        "        'clf': [MultinomialNB(), ComplementNB()],\n",
        "        'clf__alpha': [0.1, 0.5, 1]\n",
        "    },\n",
        "    {\n",
        "        'vect': [CountVectorizer(), TfidfVectorizer()],\n",
        "        'vect__ngram_range': [(1,1), (1,2)],\n",
        "        'clf': [SVC(random_state=seed)],\n",
        "        'clf__C': [0.1, 1, 10],\n",
        "        'clf__kernel': ['linear', 'rbf'],\n",
        "        'clf__class_weight': [None,'balanced']\n",
        "    },\n",
        "    {\n",
        "        'vect': [CountVectorizer(), TfidfVectorizer()],\n",
        "        'vect__ngram_range': [(1,1), (1,2)],\n",
        "        'clf': [LogisticRegression(random_state=seed)],\n",
        "        'clf__C': [0.1, 1, 10],\n",
        "        'clf__class_weight': [None,'balanced']\n",
        "    }\n",
        "]\n",
        "\n",
        "# Create a GridSearchCV object with the pipeline and parameter grids, n_jobs=-1 allows parallel processing\n",
        "grid_search = GridSearchCV(estimator=pipelines, param_grid=param_grids, cv=5, scoring='f1', n_jobs=-1)\n",
        "\n",
        "# Fit the GridSearchCV object on the training data\n",
        "grid_search.fit(X_train, y_train)\n",
        "\n",
        "# Print best parameters and score\n",
        "print(\"Best parameters: \", grid_search.best_params_)\n",
        "print(\"Best F1-score: \", round(grid_search.best_score_,3))\n",
        "\n",
        "# Select the best model from the GridSearchCV object\n",
        "model=grid_search.best_estimator_"
      ]
    },
    {
      "attachments": {},
      "cell_type": "markdown",
      "metadata": {},
      "source": [
        "### Tests and results"
      ]
    },
    {
      "attachments": {},
      "cell_type": "markdown",
      "metadata": {},
      "source": [
        "After the model fitting, we can test the performance of the classifier on the test split."
      ]
    },
    {
      "cell_type": "code",
      "execution_count": 11,
      "metadata": {
        "id": "MD3Nt48KqqU7"
      },
      "outputs": [],
      "source": [
        "# Prediction on test split\n",
        "y_pred = model.predict(X_test) "
      ]
    },
    {
      "attachments": {},
      "cell_type": "markdown",
      "metadata": {},
      "source": [
        "In order to evaluate the performance of the model, as previously mentioned, since we are dealing with a skewed dataset we should not rely only on the *accuracy* metric to of the model to assess its capabilities but we also need *precision*, *recall* and *F1-score*.\n",
        "\n",
        "In particular, *precision* measures the proportion of true positive predictions among all positive predictions made by the model while *recall* measures the proportion of true positive predictions among all actual positive instances in the dataset. The *F1-score* is the harmonic mean of precision and recall and especially for a skewed dataset, it can be used as a global indicator of the model's performances as it provides a good balance between *precision* and *recall*.\n",
        "\n",
        "To have a clearer idea of the model's capabilities we also plot the confusion matrix."
      ]
    },
    {
      "cell_type": "code",
      "execution_count": 12,
      "metadata": {
        "id": "VGhbuW4Xqxmg"
      },
      "outputs": [
        {
          "name": "stdout",
          "output_type": "stream",
          "text": [
            "              precision    recall  f1-score   support\n",
            "\n",
            " Non-Italian      0.999     0.999     0.999      1928\n",
            "     Italian      0.993     0.993     0.993       140\n",
            "\n",
            "    accuracy                          0.999      2068\n",
            "   macro avg      0.996     0.996     0.996      2068\n",
            "weighted avg      0.999     0.999     0.999      2068\n",
            "\n",
            "F1-score: 0.993\n"
          ]
        },
        {
          "data": {
            "image/png": "[encoded data removed]",
            "text/plain": [
              "<Figure size 640x480 with 2 Axes>"
            ]
          },
          "metadata": {},
          "output_type": "display_data"
        }
      ],
      "source": [
        "# Compute the evaluation metrics\n",
        "clf_report = classification_report(y_test, y_pred, target_names=['Non-Italian','Italian'], digits=3)\n",
        "print(clf_report)\n",
        "\n",
        "#\n",
        "print('F1-score: ' + str(round(f1_score(y_test, y_pred),3)))\n",
        "\n",
        "# Compute the Confusion Matrix\n",
        "confusion_matrix = confusion_matrix(y_test, y_pred)\n",
        "\n",
        "# Plot of the Confusion Matrix\n",
        "disp = ConfusionMatrixDisplay(confusion_matrix=confusion_matrix,display_labels=['Non-Italian','Italian'])\n",
        "disp.plot()\n",
        "plt.show()"
      ]
    },
    {
      "attachments": {},
      "cell_type": "markdown",
      "metadata": {},
      "source": [
        "By analyzing the test results it is possible to see that the model correctly learned the task, in fact, the most significant metric, the *F1-score*, is equal to 0.993 which translates into almost perfect predictions, only 2 of the 2068 test samples have been miss-classified."
      ]
    },
    {
      "attachments": {},
      "cell_type": "markdown",
      "metadata": {},
      "source": [
        "### Save model"
      ]
    },
    {
      "attachments": {},
      "cell_type": "markdown",
      "metadata": {},
      "source": [
        "Now our model is ready to be used for inference, therefore we need to export it in order to be later used in the REST API   "
      ]
    },
    {
      "cell_type": "code",
      "execution_count": 15,
      "metadata": {
        "id": "YziM1evttOCb"
      },
      "outputs": [],
      "source": [
        "# Save model using pickle\n",
        "filename = 'language_detection_model.pkl'\n",
        "pickle.dump(model, open(filename, 'wb'))"
      ]
    }
  ],
  "metadata": {
    "colab": {
      "gpuType": "T4",
      "provenance": []
    },
    "gpuClass": "standard",
    "kernelspec": {
      "display_name": "Python 3",
      "name": "python3"
    },
    "language_info": {
      "codemirror_mode": {
        "name": "ipython",
        "version": 3
      },
      "file_extension": ".py",
      "mimetype": "text/x-python",
      "name": "python",
      "nbconvert_exporter": "python",
      "pygments_lexer": "ipython3",
      "version": "3.9.16"
    }
  },
  "nbformat": 4,
  "nbformat_minor": 0
}
